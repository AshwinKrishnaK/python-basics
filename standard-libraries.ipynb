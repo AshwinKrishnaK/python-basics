{
 "cells": [
  {
   "cell_type": "markdown",
   "metadata": {},
   "source": [
    "Python Commonly used Libraries"
   ]
  },
  {
   "cell_type": "code",
   "execution_count": null,
   "metadata": {},
   "outputs": [
    {
     "name": "stdout",
     "output_type": "stream",
     "text": [
      "array('i', [1, 2, 3, 4, 5])\n"
     ]
    }
   ],
   "source": [
    "import array #Library for creating array\n",
    "arr=array.array('i',[1,2,3,4,5])\n",
    "print(arr)"
   ]
  },
  {
   "cell_type": "code",
   "execution_count": null,
   "metadata": {},
   "outputs": [
    {
     "data": {
      "text/plain": [
       "0.5440211108893698"
      ]
     },
     "execution_count": 6,
     "metadata": {},
     "output_type": "execute_result"
    }
   ],
   "source": [
    "import math #library for Math funtions.\n",
    "math.sqrt(50)\n",
    "math.sin(-10)\n",
    "math.tan(10)"
   ]
  },
  {
   "cell_type": "code",
   "execution_count": 11,
   "metadata": {},
   "outputs": [
    {
     "name": "stdout",
     "output_type": "stream",
     "text": [
      "orange\n",
      "2\n"
     ]
    }
   ],
   "source": [
    "import random #Generate Random values\n",
    "print(random.choice(['apple','orange','banana']))\n",
    "print(random.randint(1,10))"
   ]
  },
  {
   "cell_type": "code",
   "execution_count": null,
   "metadata": {},
   "outputs": [
    {
     "data": {
      "text/plain": [
       "'c:\\\\Users\\\\ashwi\\\\OneDrive\\\\Desktop\\\\AI\\\\python-basics'"
      ]
     },
     "execution_count": 13,
     "metadata": {},
     "output_type": "execute_result"
    }
   ],
   "source": [
    "import os #Module for OS functionalities \n",
    "os.listdir('.') #Listing all directory\n",
    "\n",
    "dir_name = \"folder1\"\n",
    "file_name = \"file1.txt\"\n",
    "#To join folder path + file name\n",
    "full_path = os.path.join(dir_name,file_name)\n",
    "#To join full path / absolute path\n",
    "abs_path = os.path.join(os.getcwd(),dir_name,file_name)\n",
    "#File exist or not\n",
    "if os.path.exists(file_name):\n",
    "    print(f\"The path {file_name} exists\")\n",
    "else:\n",
    "    print(f\"The path {file_name} didnot exists.\")\n",
    "#Checking whether file or directory\n",
    "if os.path.isfile(file_name):\n",
    "    print(f\"The path {file_name} is a file\")\n",
    "elif os.path.isdir(file_name):\n",
    "    print(f\"The path {file_name} is a directory\")\n",
    "else:\n",
    "    print(f\"The path {file_name} not a file or directory\")\n",
    "\n",
    "#To get abs path\n",
    "abs_path = os.path.abspath(file_name)\n",
    "\n",
    "os.mkdir('test-dir') #Creating directory\n",
    "os.getcwd() #Get current woring directory"
   ]
  },
  {
   "cell_type": "code",
   "execution_count": null,
   "metadata": {},
   "outputs": [],
   "source": [
    "import shutil #High level operations on files\n",
    "shutil.copyfile('','') #Duplicates a file source to destination"
   ]
  },
  {
   "cell_type": "code",
   "execution_count": 17,
   "metadata": {},
   "outputs": [
    {
     "name": "stdout",
     "output_type": "stream",
     "text": [
      "{\"name\": \"Ashwin\", \"age\": 15}\n",
      "<class 'str'>\n",
      "{'name': 'Ashwin', 'age': 15}\n",
      "<class 'dict'>\n"
     ]
    }
   ],
   "source": [
    "import json #Json Serialisation and Deserialisation\n",
    "\n",
    "data={'name':'Ashwin','age':15}\n",
    "json_str = json.dumps(data)\n",
    "print(json_str)\n",
    "print(type(json_str))\n",
    "\n",
    "dict_value = json.loads(json_str)\n",
    "print(dict_value)\n",
    "print(type(dict_value))"
   ]
  },
  {
   "cell_type": "code",
   "execution_count": null,
   "metadata": {},
   "outputs": [],
   "source": [
    "import csv #Importing csv and it's methods\n",
    "\n",
    "with open('example.csv', mode='w',newline='') as file:\n",
    "    writer=csv.writer(file)\n",
    "    writer.writerow(['name','age'])\n",
    "    writer.writerow(['Ashwin',25])\n",
    "\n",
    "with open('example.csv', mode='r') as file:\n",
    "    reader=csv.reader(file)\n",
    "    for row in reader:\n",
    "        print(row)"
   ]
  },
  {
   "cell_type": "code",
   "execution_count": 19,
   "metadata": {},
   "outputs": [
    {
     "data": {
      "text/plain": [
       "datetime.datetime(2024, 11, 20, 20, 41, 29, 804470)"
      ]
     },
     "execution_count": 19,
     "metadata": {},
     "output_type": "execute_result"
    }
   ],
   "source": [
    "from datetime import datetime,timedelta\n",
    "\n",
    "datetime.now()\n",
    "datetime.now() - timedelta(days=1)\n"
   ]
  },
  {
   "cell_type": "code",
   "execution_count": null,
   "metadata": {},
   "outputs": [],
   "source": [
    "import time\n",
    "\n",
    "time.time()\n",
    "time.sleep(20)"
   ]
  },
  {
   "cell_type": "code",
   "execution_count": null,
   "metadata": {},
   "outputs": [],
   "source": [
    "import re #Regular expression\n",
    "\n",
    "pattern = '\\d%' #Regex pattern\n",
    "text= \"advashvd dcbajb\"\n",
    "match=re.search(pattern,text)"
   ]
  },
  {
   "cell_type": "code",
   "execution_count": null,
   "metadata": {},
   "outputs": [],
   "source": []
  }
 ],
 "metadata": {
  "kernelspec": {
   "display_name": "Python 3",
   "language": "python",
   "name": "python3"
  },
  "language_info": {
   "codemirror_mode": {
    "name": "ipython",
    "version": 3
   },
   "file_extension": ".py",
   "mimetype": "text/x-python",
   "name": "python",
   "nbconvert_exporter": "python",
   "pygments_lexer": "ipython3",
   "version": "3.12.0"
  }
 },
 "nbformat": 4,
 "nbformat_minor": 2
}
